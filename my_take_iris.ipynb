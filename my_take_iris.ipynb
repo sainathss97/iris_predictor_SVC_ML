{
 "cells": [
  {
   "cell_type": "code",
   "execution_count": 1,
   "id": "7b51ff4c-a146-40b0-b50d-9a91ee28ac06",
   "metadata": {},
   "outputs": [],
   "source": [
    "import pandas as pd\n",
    "from sklearn.model_selection import train_test_split\n",
    "from sklearn.svm import SVC\n",
    "from sklearn.metrics import confusion_matrix"
   ]
  },
  {
   "cell_type": "code",
   "execution_count": 2,
   "id": "b5a434c3-a4c7-4e4f-bf10-29f6e7befe05",
   "metadata": {},
   "outputs": [],
   "source": [
    "data = pd.read_csv(r'C:\\Django\\Django-code\\django_ml\\iris.csv')"
   ]
  },
  {
   "cell_type": "code",
   "execution_count": 3,
   "id": "9e33fbb0-dd50-415c-9e3d-76de31e2fb87",
   "metadata": {},
   "outputs": [
    {
     "data": {
      "text/plain": [
       "sepal_length      0\n",
       "sepal_width       0\n",
       "petal_length      0\n",
       "petal_width       0\n",
       "classification    0\n",
       "dtype: int64"
      ]
     },
     "execution_count": 3,
     "metadata": {},
     "output_type": "execute_result"
    }
   ],
   "source": [
    "data.isnull().sum()"
   ]
  },
  {
   "cell_type": "code",
   "execution_count": 4,
   "id": "551c21c8-bd9d-425d-9f73-810d28a3c98e",
   "metadata": {},
   "outputs": [
    {
     "data": {
      "text/html": [
       "<div>\n",
       "<style scoped>\n",
       "    .dataframe tbody tr th:only-of-type {\n",
       "        vertical-align: middle;\n",
       "    }\n",
       "\n",
       "    .dataframe tbody tr th {\n",
       "        vertical-align: top;\n",
       "    }\n",
       "\n",
       "    .dataframe thead th {\n",
       "        text-align: right;\n",
       "    }\n",
       "</style>\n",
       "<table border=\"1\" class=\"dataframe\">\n",
       "  <thead>\n",
       "    <tr style=\"text-align: right;\">\n",
       "      <th></th>\n",
       "      <th>sepal_length</th>\n",
       "      <th>sepal_width</th>\n",
       "      <th>petal_length</th>\n",
       "      <th>petal_width</th>\n",
       "      <th>classification</th>\n",
       "    </tr>\n",
       "  </thead>\n",
       "  <tbody>\n",
       "    <tr>\n",
       "      <th>0</th>\n",
       "      <td>5.4</td>\n",
       "      <td>3.7</td>\n",
       "      <td>1.5</td>\n",
       "      <td>0.2</td>\n",
       "      <td>Iris-setosa</td>\n",
       "    </tr>\n",
       "    <tr>\n",
       "      <th>1</th>\n",
       "      <td>4.8</td>\n",
       "      <td>3.4</td>\n",
       "      <td>1.6</td>\n",
       "      <td>0.2</td>\n",
       "      <td>Iris-setosa</td>\n",
       "    </tr>\n",
       "    <tr>\n",
       "      <th>2</th>\n",
       "      <td>4.8</td>\n",
       "      <td>3.0</td>\n",
       "      <td>1.4</td>\n",
       "      <td>0.1</td>\n",
       "      <td>Iris-setosa</td>\n",
       "    </tr>\n",
       "    <tr>\n",
       "      <th>3</th>\n",
       "      <td>4.3</td>\n",
       "      <td>3.0</td>\n",
       "      <td>1.1</td>\n",
       "      <td>0.1</td>\n",
       "      <td>Iris-setosa</td>\n",
       "    </tr>\n",
       "    <tr>\n",
       "      <th>4</th>\n",
       "      <td>5.8</td>\n",
       "      <td>4.0</td>\n",
       "      <td>1.2</td>\n",
       "      <td>0.2</td>\n",
       "      <td>Iris-setosa</td>\n",
       "    </tr>\n",
       "  </tbody>\n",
       "</table>\n",
       "</div>"
      ],
      "text/plain": [
       "   sepal_length  sepal_width  petal_length  petal_width classification\n",
       "0           5.4          3.7           1.5          0.2    Iris-setosa\n",
       "1           4.8          3.4           1.6          0.2    Iris-setosa\n",
       "2           4.8          3.0           1.4          0.1    Iris-setosa\n",
       "3           4.3          3.0           1.1          0.1    Iris-setosa\n",
       "4           5.8          4.0           1.2          0.2    Iris-setosa"
      ]
     },
     "execution_count": 4,
     "metadata": {},
     "output_type": "execute_result"
    }
   ],
   "source": [
    "data.head()"
   ]
  },
  {
   "cell_type": "markdown",
   "id": "d98da0f6-72f2-4a4d-9662-684b1ac193c8",
   "metadata": {},
   "source": [
    "**No Missing Values going to Train  moodel directly**"
   ]
  },
  {
   "cell_type": "markdown",
   "id": "e0773b2f-f563-4308-a8f8-e10ec4bd6f37",
   "metadata": {},
   "source": [
    "*we are going to predict classification from others*"
   ]
  },
  {
   "cell_type": "code",
   "execution_count": 5,
   "id": "a307a050-c8a7-4d5b-a27f-893ce60bab41",
   "metadata": {},
   "outputs": [],
   "source": [
    "X = data[['sepal_length','sepal_width','petal_length','petal_width']]"
   ]
  },
  {
   "cell_type": "code",
   "execution_count": 6,
   "id": "4819dba5-1413-465b-bbf2-87d58df5d783",
   "metadata": {},
   "outputs": [],
   "source": [
    "y = data['classification']"
   ]
  },
  {
   "cell_type": "markdown",
   "id": "2f094abc-b084-486a-b67b-65bef4b4cfc8",
   "metadata": {},
   "source": [
    "Create training and testing vars, It’s usually around 80/20 or 70/30."
   ]
  },
  {
   "cell_type": "code",
   "execution_count": 7,
   "id": "9e090ddb-a796-42c1-b4c4-338c1608ed46",
   "metadata": {},
   "outputs": [],
   "source": [
    "X_train,X_test,Y_train,Y_test =  train_test_split(X,y,test_size=0.30,random_state=1)"
   ]
  },
  {
   "cell_type": "code",
   "execution_count": 8,
   "id": "0ae74d4d-aff9-4935-8cb6-c9a5f73441f8",
   "metadata": {},
   "outputs": [
    {
     "data": {
      "text/plain": [
       "SVC(gamma='auto')"
      ]
     },
     "execution_count": 8,
     "metadata": {},
     "output_type": "execute_result"
    }
   ],
   "source": [
    "model = SVC(gamma='auto')\n",
    "model.fit(X_train,Y_train)"
   ]
  },
  {
   "cell_type": "code",
   "execution_count": 9,
   "id": "f42adffc-5163-4e86-97ef-de85b6b3e2a8",
   "metadata": {},
   "outputs": [],
   "source": [
    "predictions = model.predict(X_test)"
   ]
  },
  {
   "cell_type": "code",
   "execution_count": 11,
   "id": "87855fd7-c2dd-402f-96cf-0cfbb4b1f795",
   "metadata": {},
   "outputs": [
    {
     "name": "stdout",
     "output_type": "stream",
     "text": [
      "[[14  0  0]\n",
      " [ 0 17  1]\n",
      " [ 0  0 13]]\n"
     ]
    }
   ],
   "source": [
    "cm_NB = confusion_matrix(Y_test,predictions )\n",
    "print(cm_NB)"
   ]
  },
  {
   "cell_type": "code",
   "execution_count": 15,
   "id": "12e2c988-7726-4b01-8759-67ee701fbaad",
   "metadata": {},
   "outputs": [],
   "source": [
    "pd.to_pickle(model,r'C:\\Django\\Django-code\\django_ml\\new_model.pickel')"
   ]
  },
  {
   "cell_type": "code",
   "execution_count": 16,
   "id": "3b5adb4d-a61d-4a37-b7f8-0cd94291f31a",
   "metadata": {},
   "outputs": [],
   "source": [
    "model = pd.read_pickle(r'C:\\Django\\Django-code\\django_ml\\new_model.pickel') \n"
   ]
  },
  {
   "cell_type": "code",
   "execution_count": 17,
   "id": "ec329b7d-2634-4a42-ba88-e9a5eb0d7b15",
   "metadata": {},
   "outputs": [
    {
     "name": "stdout",
     "output_type": "stream",
     "text": [
      "SVC(gamma='auto')\n"
     ]
    }
   ],
   "source": []
  }
 ],
 "metadata": {
  "kernelspec": {
   "display_name": "Python 3",
   "language": "python",
   "name": "python3"
  },
  "language_info": {
   "codemirror_mode": {
    "name": "ipython",
    "version": 3
   },
   "file_extension": ".py",
   "mimetype": "text/x-python",
   "name": "python",
   "nbconvert_exporter": "python",
   "pygments_lexer": "ipython3",
   "version": "3.8.8"
  }
 },
 "nbformat": 4,
 "nbformat_minor": 5
}
